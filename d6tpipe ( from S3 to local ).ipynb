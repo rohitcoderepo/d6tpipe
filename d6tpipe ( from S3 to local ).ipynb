{
 "cells": [
  {
   "cell_type": "code",
   "execution_count": null,
   "metadata": {},
   "outputs": [],
   "source": [
    "import d6tpipe"
   ]
  },
  {
   "cell_type": "code",
   "execution_count": null,
   "metadata": {},
   "outputs": [],
   "source": [
    "api = d6tpipe.api.APIClient()\n",
    "\n",
    "api.login('username','password')"
   ]
  },
  {
   "cell_type": "code",
   "execution_count": null,
   "metadata": {},
   "outputs": [],
   "source": [
    "# creating a pipe by disclosing the s3 credentials\n",
    "settings = \\\n",
    "{\n",
    "    'name': 'pipename',\n",
    "    'protocol': 's3',\n",
    "    'location': 'bucketname',\n",
    "    'credentials' : {\n",
    "        'aws_access_key_id': 'AAA',\n",
    "        'aws_secret_access_key': 'BBB'\n",
    "    }\n",
    "}\n",
    "\n",
    "d6tpipe.upsert_pipe(api, settings)"
   ]
  },
  {
   "cell_type": "code",
   "execution_count": null,
   "metadata": {},
   "outputs": [],
   "source": [
    "api.list_pipes()"
   ]
  },
  {
   "cell_type": "code",
   "execution_count": null,
   "metadata": {},
   "outputs": [],
   "source": [
    "pipe = d6tpipe.Pipe(api, 'pipename')\n",
    "\n",
    "# now use pull or push command to retrieve or load files to s3 bucket\n",
    "\n",
    "# use pipe.pull_preview() to see the size and files \n"
   ]
  }
 ],
 "metadata": {
  "kernelspec": {
   "display_name": "Python 3",
   "language": "python",
   "name": "python3"
  },
  "language_info": {
   "codemirror_mode": {
    "name": "ipython",
    "version": 3
   },
   "file_extension": ".py",
   "mimetype": "text/x-python",
   "name": "python",
   "nbconvert_exporter": "python",
   "pygments_lexer": "ipython3",
   "version": "3.7.1"
  }
 },
 "nbformat": 4,
 "nbformat_minor": 2
}
