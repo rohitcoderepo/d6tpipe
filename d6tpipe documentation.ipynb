{
 "cells": [
  {
   "cell_type": "code",
   "execution_count": null,
   "metadata": {},
   "outputs": [],
   "source": [
    "import d6tpipe"
   ]
  },
  {
   "cell_type": "code",
   "execution_count": null,
   "metadata": {},
   "outputs": [],
   "source": [
    "d6tpipe.api.ConfigManager().init()"
   ]
  },
  {
   "cell_type": "code",
   "execution_count": null,
   "metadata": {},
   "outputs": [],
   "source": [
    "api = d6tpipe.api.APIClient() # to connect to api cloud repo\n",
    "\n",
    "api = d6tpipe.api.APILocal() # to connect to the local files"
   ]
  },
  {
   "cell_type": "code",
   "execution_count": null,
   "metadata": {},
   "outputs": [],
   "source": [
    "api.register('username','email','password') # to register\n",
    "\n",
    "api.login('username','password') # to login"
   ]
  },
  {
   "cell_type": "code",
   "execution_count": null,
   "metadata": {},
   "outputs": [],
   "source": [
    "# this shows the list of pipes on cloud repo API\n",
    "api.list_pipes()"
   ]
  },
  {
   "cell_type": "code",
   "execution_count": null,
   "metadata": {},
   "outputs": [],
   "source": [
    "# connect to the data pipe\n",
    "pipe = d6tpipe.Pipe(api,'intro-stat-learning')"
   ]
  },
  {
   "cell_type": "code",
   "execution_count": null,
   "metadata": {},
   "outputs": [],
   "source": [
    "# preview files and size\n",
    "\n",
    "pipe.pull_preview()"
   ]
  },
  {
   "cell_type": "code",
   "execution_count": null,
   "metadata": {},
   "outputs": [],
   "source": [
    "# download all data in the path mentioned by pipe.dirpath in local computer\n",
    "\n",
    "pipe.pull()"
   ]
  },
  {
   "cell_type": "code",
   "execution_count": null,
   "metadata": {},
   "outputs": [],
   "source": [
    "# shows local files\n",
    "pipe.dirpath"
   ]
  },
  {
   "cell_type": "code",
   "execution_count": null,
   "metadata": {},
   "outputs": [],
   "source": [
    "# load local files \n",
    "\n",
    "import pandas as pd\n",
    "\n",
    "df = pd.read_csv(pipe.dirpath/'Advertising.csv',**pipe.schema['pandas']) # use schema to quickly load data"
   ]
  },
  {
   "cell_type": "code",
   "execution_count": null,
   "metadata": {},
   "outputs": [],
   "source": [
    "# read multiple files into dask\n",
    "\n",
    "import dask.dataframe as dd\n",
    "\n",
    "files = pipe.filepaths(include='Advertising*.csv')\n",
    "ddf = dd.read_csv(files, **pipe.schema['dask'])\n",
    "\n",
    "print(ddf.head())"
   ]
  },
  {
   "cell_type": "code",
   "execution_count": null,
   "metadata": {},
   "outputs": [],
   "source": [
    "# open most recent csv\n",
    "\n",
    "df = pd.read_csv(pipe.files(sortby='mod')[-1])\n",
    "\n",
    "# save data to local files\n",
    "\n",
    "df.to_csv(pipe.dirpath/'new_file.csv')"
   ]
  },
  {
   "cell_type": "code",
   "execution_count": null,
   "metadata": {},
   "outputs": [],
   "source": [
    "# this will transfer all file in the given path to the local directory of d6tpipe\n",
    "\n",
    "pipe.import_dir('../Loan Data/Filter_Data')"
   ]
  },
  {
   "cell_type": "code",
   "execution_count": null,
   "metadata": {},
   "outputs": [],
   "source": [
    "# to view all the files at the local directory\n",
    "pipe.scan_local()"
   ]
  },
  {
   "cell_type": "code",
   "execution_count": null,
   "metadata": {},
   "outputs": [],
   "source": [
    "# to show local file repository\n",
    "api.filerepo"
   ]
  },
  {
   "cell_type": "markdown",
   "metadata": {},
   "source": [
    "### Manage Local File Storage"
   ]
  },
  {
   "cell_type": "code",
   "execution_count": null,
   "metadata": {},
   "outputs": [],
   "source": [
    "# option1 : set custom path BEFORE init\n",
    "\n",
    "# d6tpipe.api.ConfigManager().init({'filerepo':'/path/'})\n",
    "\n",
    "# option2 : move file repo AFTER init\n",
    "\n",
    "# api = d6tpipe.api.APILocal()\n",
    "# api.move_repo('/new/path')\n",
    "# print(api.filerepo)\n",
    "\n",
    "# option3 : manually move file repo and update config\n",
    "\n",
    "# d6tpipe.api.ConfigManager().update({'filerepo':'/path/'})"
   ]
  },
  {
   "cell_type": "code",
   "execution_count": null,
   "metadata": {},
   "outputs": [],
   "source": [
    "# to create a new pipe in cloud repo API, this is also known as registering pipe\n",
    "\n",
    "response, data = d6tpipe.upsert_pipe(api,{'name':'LoanData'})"
   ]
  },
  {
   "cell_type": "code",
   "execution_count": null,
   "metadata": {},
   "outputs": [],
   "source": [
    "# pushing files from local to remote\n",
    "\n",
    "pipe = d6tpipe.pipe.Pipe(api, 'LoanData')\n",
    "\n",
    "files = ['../LoanData_2016.csv',\n",
    "          '../LoanData_2017.csv',\n",
    "        'C../LoanData_2018.csv']\n",
    "pipe.push(files)\n",
    "\n",
    "# pipe.push(include='*.csv', exclude='oldfile*.csv') # apply file filters"
   ]
  },
  {
   "cell_type": "code",
   "execution_count": null,
   "metadata": {},
   "outputs": [],
   "source": [
    "# push the files in the default folder to remote cloud repo\n",
    "\n",
    "# pipe.push_preview() # preview\n",
    "\n",
    "# pipe.push() # execute\n"
   ]
  },
  {
   "cell_type": "markdown",
   "metadata": {},
   "source": [
    "### Expired Token"
   ]
  },
  {
   "cell_type": "markdown",
   "metadata": {},
   "source": [
    "If there is an error: \"ClientError: An error occurred (ExpiredToken) when calling the PutObject operation: the provided token has expired\". For security reasons we recieve short-term credentials.We can force renewal"
   ]
  },
  {
   "cell_type": "code",
   "execution_count": null,
   "metadata": {},
   "outputs": [],
   "source": [
    "# pipe._reset_credentials()"
   ]
  },
  {
   "cell_type": "markdown",
   "metadata": {},
   "source": [
    "### Sharing Remote Data Storage"
   ]
  },
  {
   "cell_type": "code",
   "execution_count": null,
   "metadata": {},
   "outputs": [],
   "source": [
    "# give another user access\n",
    "\n",
    "settings = {\"username\":\"another-user\",\"role\":\"read\"} # role can be read, write or admin\n",
    "\n",
    "d6tpipe.upsert_permissions(api, 'pipe-name', settings)\n",
    "\n",
    "#make data repo public\n",
    "\n",
    "settings = {\"username\":\"public\",\"role\":\"read\"}\n",
    "\n",
    "d6tpipe.upsert_permissions(api, 'remote-name', settings)\n",
    "\n",
    "# view permission (owner only)\n",
    "\n",
    "pipe.cnxpipe.permissions.get()"
   ]
  }
 ],
 "metadata": {
  "kernelspec": {
   "display_name": "Python 3",
   "language": "python",
   "name": "python3"
  },
  "language_info": {
   "codemirror_mode": {
    "name": "ipython",
    "version": 3
   },
   "file_extension": ".py",
   "mimetype": "text/x-python",
   "name": "python",
   "nbconvert_exporter": "python",
   "pygments_lexer": "ipython3",
   "version": "3.7.1"
  }
 },
 "nbformat": 4,
 "nbformat_minor": 2
}
